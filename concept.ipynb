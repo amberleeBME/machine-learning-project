{
 "cells": [
  {
   "cell_type": "code",
   "execution_count": 47,
   "metadata": {},
   "outputs": [],
   "source": [
    "import pandas as pd\n",
    "import numpy as np\n",
    "import matplotlib.pyplot as plt"
   ]
  },
  {
   "cell_type": "code",
   "execution_count": 48,
   "metadata": {},
   "outputs": [],
   "source": [
    "path = 'cleaned.csv'\n",
    "df = pd.read_csv(path).dropna(how=\"any\")"
   ]
  },
  {
   "cell_type": "code",
   "execution_count": 49,
   "metadata": {},
   "outputs": [
    {
     "data": {
      "text/html": [
       "<div>\n",
       "<style scoped>\n",
       "    .dataframe tbody tr th:only-of-type {\n",
       "        vertical-align: middle;\n",
       "    }\n",
       "\n",
       "    .dataframe tbody tr th {\n",
       "        vertical-align: top;\n",
       "    }\n",
       "\n",
       "    .dataframe thead th {\n",
       "        text-align: right;\n",
       "    }\n",
       "</style>\n",
       "<table border=\"1\" class=\"dataframe\">\n",
       "  <thead>\n",
       "    <tr style=\"text-align: right;\">\n",
       "      <th></th>\n",
       "      <th>Name</th>\n",
       "      <th>FIPS</th>\n",
       "      <th>1-0-1</th>\n",
       "      <th>1-1-1</th>\n",
       "      <th>1-2-1</th>\n",
       "      <th>1-3-1</th>\n",
       "      <th>2-0-1</th>\n",
       "      <th>2-1-1</th>\n",
       "      <th>2-2-1</th>\n",
       "      <th>2-3-1</th>\n",
       "      <th>...</th>\n",
       "      <th>2-3-2</th>\n",
       "      <th>Median Wage</th>\n",
       "      <th>% Less then Highschool Diploma</th>\n",
       "      <th>% High School Diploma Only</th>\n",
       "      <th>% Some College or Associates</th>\n",
       "      <th>% Bachelo's Degree or higher</th>\n",
       "      <th>% Civilian Labor Force</th>\n",
       "      <th>% Employed</th>\n",
       "      <th>% Unemployed</th>\n",
       "      <th>% Total Crimes</th>\n",
       "    </tr>\n",
       "  </thead>\n",
       "  <tbody>\n",
       "    <tr>\n",
       "      <th>0</th>\n",
       "      <td>Abbeville</td>\n",
       "      <td>45001</td>\n",
       "      <td>-0.412555</td>\n",
       "      <td>0.225781</td>\n",
       "      <td>0.465322</td>\n",
       "      <td>0.847885</td>\n",
       "      <td>-0.015076</td>\n",
       "      <td>0.228852</td>\n",
       "      <td>0.390740</td>\n",
       "      <td>0.490329</td>\n",
       "      <td>...</td>\n",
       "      <td>-0.072109</td>\n",
       "      <td>22.793627</td>\n",
       "      <td>0.129286</td>\n",
       "      <td>0.239761</td>\n",
       "      <td>0.225767</td>\n",
       "      <td>0.109776</td>\n",
       "      <td>0.412431</td>\n",
       "      <td>0.399136</td>\n",
       "      <td>0.013295</td>\n",
       "      <td>22.226796</td>\n",
       "    </tr>\n",
       "    <tr>\n",
       "      <th>1</th>\n",
       "      <td>Acadia</td>\n",
       "      <td>22001</td>\n",
       "      <td>-0.393400</td>\n",
       "      <td>0.316276</td>\n",
       "      <td>0.609542</td>\n",
       "      <td>1.047389</td>\n",
       "      <td>0.002030</td>\n",
       "      <td>0.272492</td>\n",
       "      <td>0.438964</td>\n",
       "      <td>0.539760</td>\n",
       "      <td>...</td>\n",
       "      <td>0.027571</td>\n",
       "      <td>21.925490</td>\n",
       "      <td>0.150636</td>\n",
       "      <td>0.295870</td>\n",
       "      <td>0.174013</td>\n",
       "      <td>0.095144</td>\n",
       "      <td>0.418751</td>\n",
       "      <td>0.397214</td>\n",
       "      <td>0.021537</td>\n",
       "      <td>67.562873</td>\n",
       "    </tr>\n",
       "    <tr>\n",
       "      <th>2</th>\n",
       "      <td>Accomack</td>\n",
       "      <td>51001</td>\n",
       "      <td>-0.424654</td>\n",
       "      <td>0.170948</td>\n",
       "      <td>0.408412</td>\n",
       "      <td>0.754913</td>\n",
       "      <td>-0.040659</td>\n",
       "      <td>0.166207</td>\n",
       "      <td>0.321787</td>\n",
       "      <td>0.389881</td>\n",
       "      <td>...</td>\n",
       "      <td>-0.119096</td>\n",
       "      <td>23.203431</td>\n",
       "      <td>0.130488</td>\n",
       "      <td>0.258372</td>\n",
       "      <td>0.177715</td>\n",
       "      <td>0.136953</td>\n",
       "      <td>0.499386</td>\n",
       "      <td>0.482327</td>\n",
       "      <td>0.017059</td>\n",
       "      <td>26.935624</td>\n",
       "    </tr>\n",
       "    <tr>\n",
       "      <th>3</th>\n",
       "      <td>Ada</td>\n",
       "      <td>16001</td>\n",
       "      <td>-0.596769</td>\n",
       "      <td>-0.176043</td>\n",
       "      <td>0.022892</td>\n",
       "      <td>0.338084</td>\n",
       "      <td>-0.322493</td>\n",
       "      <td>-0.205671</td>\n",
       "      <td>-0.096186</td>\n",
       "      <td>0.000318</td>\n",
       "      <td>...</td>\n",
       "      <td>-0.324468</td>\n",
       "      <td>35.438725</td>\n",
       "      <td>0.030099</td>\n",
       "      <td>0.139118</td>\n",
       "      <td>0.213133</td>\n",
       "      <td>0.239620</td>\n",
       "      <td>0.512513</td>\n",
       "      <td>0.500262</td>\n",
       "      <td>0.012251</td>\n",
       "      <td>33.982063</td>\n",
       "    </tr>\n",
       "    <tr>\n",
       "      <th>4</th>\n",
       "      <td>Adair</td>\n",
       "      <td>19001</td>\n",
       "      <td>-0.523225</td>\n",
       "      <td>-0.004930</td>\n",
       "      <td>0.256505</td>\n",
       "      <td>0.605554</td>\n",
       "      <td>-0.186843</td>\n",
       "      <td>-0.036245</td>\n",
       "      <td>0.097463</td>\n",
       "      <td>0.207596</td>\n",
       "      <td>...</td>\n",
       "      <td>-0.193880</td>\n",
       "      <td>28.420098</td>\n",
       "      <td>0.039488</td>\n",
       "      <td>0.276681</td>\n",
       "      <td>0.240128</td>\n",
       "      <td>0.126067</td>\n",
       "      <td>0.574306</td>\n",
       "      <td>0.560832</td>\n",
       "      <td>0.013474</td>\n",
       "      <td>2.668090</td>\n",
       "    </tr>\n",
       "  </tbody>\n",
       "</table>\n",
       "<p>5 rows × 23 columns</p>\n",
       "</div>"
      ],
      "text/plain": [
       "        Name   FIPS     1-0-1     1-1-1     1-2-1     1-3-1     2-0-1  \\\n",
       "0  Abbeville  45001 -0.412555  0.225781  0.465322  0.847885 -0.015076   \n",
       "1     Acadia  22001 -0.393400  0.316276  0.609542  1.047389  0.002030   \n",
       "2   Accomack  51001 -0.424654  0.170948  0.408412  0.754913 -0.040659   \n",
       "3        Ada  16001 -0.596769 -0.176043  0.022892  0.338084 -0.322493   \n",
       "4      Adair  19001 -0.523225 -0.004930  0.256505  0.605554 -0.186843   \n",
       "\n",
       "      2-1-1     2-2-1     2-3-1  ...     2-3-2  Median Wage  \\\n",
       "0  0.228852  0.390740  0.490329  ... -0.072109    22.793627   \n",
       "1  0.272492  0.438964  0.539760  ...  0.027571    21.925490   \n",
       "2  0.166207  0.321787  0.389881  ... -0.119096    23.203431   \n",
       "3 -0.205671 -0.096186  0.000318  ... -0.324468    35.438725   \n",
       "4 -0.036245  0.097463  0.207596  ... -0.193880    28.420098   \n",
       "\n",
       "   % Less then Highschool Diploma  % High School Diploma Only  \\\n",
       "0                        0.129286                    0.239761   \n",
       "1                        0.150636                    0.295870   \n",
       "2                        0.130488                    0.258372   \n",
       "3                        0.030099                    0.139118   \n",
       "4                        0.039488                    0.276681   \n",
       "\n",
       "   % Some College or Associates  % Bachelo's Degree or higher  \\\n",
       "0                      0.225767                      0.109776   \n",
       "1                      0.174013                      0.095144   \n",
       "2                      0.177715                      0.136953   \n",
       "3                      0.213133                      0.239620   \n",
       "4                      0.240128                      0.126067   \n",
       "\n",
       "   % Civilian Labor Force  % Employed  % Unemployed  % Total Crimes  \n",
       "0                0.412431    0.399136      0.013295       22.226796  \n",
       "1                0.418751    0.397214      0.021537       67.562873  \n",
       "2                0.499386    0.482327      0.017059       26.935624  \n",
       "3                0.512513    0.500262      0.012251       33.982063  \n",
       "4                0.574306    0.560832      0.013474        2.668090  \n",
       "\n",
       "[5 rows x 23 columns]"
      ]
     },
     "execution_count": 49,
     "metadata": {},
     "output_type": "execute_result"
    }
   ],
   "source": [
    "df.head()\n"
   ]
  },
  {
   "cell_type": "code",
   "execution_count": 50,
   "metadata": {},
   "outputs": [],
   "source": [
    "##### Only Wage Data\n",
    "# X = df.drop(['Name', \"FIPS\", \"% Total Crimes\", 'Median Wage', \"% Less then Highschool Diploma\",'% High School Diploma Only', '% Some College or Associates',\"% Bachelo's Degree or higher\", '% Civilian Labor Force', \"% Employed\", \"% Unemployed\", '% Total Crimes'], axis=1)\n",
    "##### Only education data\n",
    "# X = df[[\"% Less then Highschool Diploma\",'% High School Diploma Only', '% Some College or Associates',\"% Bachelo's Degree or higher\", '% Civilian Labor Force', \"% Employed\", \"% Unemployed\"]]\n",
    "##### All Data\n",
    "X = df.drop(['Name', \"FIPS\", \"% Total Crimes\", 'Median Wage'], axis=1)\n",
    "y = df['% Total Crimes']"
   ]
  },
  {
   "cell_type": "code",
   "execution_count": 51,
   "metadata": {},
   "outputs": [],
   "source": [
    "from sklearn.model_selection import train_test_split\n",
    "X_train, X_test, y_train, y_test = train_test_split(X, y, test_size=0.2, random_state=42)\n",
    "\n",
    "#scale everything\n",
    "from sklearn.preprocessing import StandardScaler\n",
    "scaler = StandardScaler()\n",
    "scaler.fit(X_train)\n",
    "X_train_scale = scaler.transform(X_train)\n",
    "X_test_scale = scaler.transform(X_test)\n",
    "\n"
   ]
  },
  {
   "cell_type": "code",
   "execution_count": 52,
   "metadata": {},
   "outputs": [],
   "source": [
    "from sklearn.neighbors import KNeighborsRegressor\n",
    "from sklearn.preprocessing import StandardScaler\n",
    "from sklearn.ensemble import RandomForestRegressor\n",
    "from sklearn.ensemble import ExtraTreesRegressor\n",
    "from sklearn.ensemble import AdaBoostRegressor\n",
    "from sklearn.linear_model import LinearRegression"
   ]
  },
  {
   "cell_type": "code",
   "execution_count": 53,
   "metadata": {},
   "outputs": [],
   "source": [
    "def test_model(model):\n",
    "    reg = model.fit(X_train_scale, y_train)\n",
    "    print(f'Model: {type(reg).__name__}')\n",
    "    print(f'Train score: {reg.score(X_train_scale, y_train)}')\n",
    "    print(f'Test Score: {reg.score(X_test_scale, y_test)}\\n')\n",
    "    print()\n",
    "    plt.scatter(y_test, model.predict(X_test_scale))\n",
    "    plt.show()\n"
   ]
  },
  {
   "cell_type": "code",
   "execution_count": 54,
   "metadata": {},
   "outputs": [
    {
     "name": "stdout",
     "output_type": "stream",
     "text": [
      "Model: LinearRegression\n",
      "Train score: 0.16794649882688606\n",
      "Test Score: 0.05800727714764131\n",
      "\n",
      "\n"
     ]
    },
    {
     "data": {
      "image/png": "[encoded data removed]",
      "text/plain": [
       "<Figure size 432x288 with 1 Axes>"
      ]
     },
     "metadata": {
      "needs_background": "light"
     },
     "output_type": "display_data"
    },
    {
     "name": "stdout",
     "output_type": "stream",
     "text": [
      "Model: KNeighborsRegressor\n",
      "Train score: 0.33426972841885605\n",
      "Test Score: -0.10975734530328896\n",
      "\n",
      "\n"
     ]
    },
    {
     "data": {
      "image/png": "[encoded data removed]",
      "text/plain": [
       "<Figure size 432x288 with 1 Axes>"
      ]
     },
     "metadata": {
      "needs_background": "light"
     },
     "output_type": "display_data"
    },
    {
     "name": "stdout",
     "output_type": "stream",
     "text": [
      "Model: RandomForestRegressor\n",
      "Train score: 0.8724557697440345\n",
      "Test Score: 0.06668990775233097\n",
      "\n",
      "\n"
     ]
    },
    {
     "data": {
      "image/png": "[encoded data removed]",
      "text/plain": [
       "<Figure size 432x288 with 1 Axes>"
      ]
     },
     "metadata": {
      "needs_background": "light"
     },
     "output_type": "display_data"
    },
    {
     "name": "stdout",
     "output_type": "stream",
     "text": [
      "Model: ExtraTreesRegressor\n",
      "Train score: 1.0\n",
      "Test Score: 0.051851785307374665\n",
      "\n",
      "\n"
     ]
    },
    {
     "data": {
      "image/png": "[encoded data removed]",
      "text/plain": [
       "<Figure size 432x288 with 1 Axes>"
      ]
     },
     "metadata": {
      "needs_background": "light"
     },
     "output_type": "display_data"
    },
    {
     "name": "stdout",
     "output_type": "stream",
     "text": [
      "Model: AdaBoostRegressor\n",
      "Train score: -0.33607186618455653\n",
      "Test Score: -0.5978193142661725\n",
      "\n",
      "\n"
     ]
    },
    {
     "data": {
      "image/png": "[encoded data removed]",
      "text/plain": [
       "<Figure size 432x288 with 1 Axes>"
      ]
     },
     "metadata": {
      "needs_background": "light"
     },
     "output_type": "display_data"
    }
   ],
   "source": [
    "test_model(LinearRegression())\n",
    "test_model(KNeighborsRegressor())\n",
    "test_model(RandomForestRegressor())\n",
    "test_model(ExtraTreesRegressor())\n",
    "test_model(AdaBoostRegressor())"
   ]
  }
 ],
 "metadata": {
  "interpreter": {
   "hash": "3b32922ae442944bae51de5c420d7545d4126864cdc0e7cb358b7d9924f39d3e"
  },
  "kernelspec": {
   "display_name": "Python 3.9.6 64-bit ('PythonData': conda)",
   "language": "python",
   "name": "python3"
  },
  "language_info": {
   "codemirror_mode": {
    "name": "ipython",
    "version": 3
   },
   "file_extension": ".py",
   "mimetype": "text/x-python",
   "name": "python",
   "nbconvert_exporter": "python",
   "pygments_lexer": "ipython3",
   "version": "3.9.6"
  },
  "orig_nbformat": 4
 },
 "nbformat": 4,
 "nbformat_minor": 2
}
