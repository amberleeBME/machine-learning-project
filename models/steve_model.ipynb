{
 "cells": [
  {
   "cell_type": "code",
   "execution_count": 11,
   "metadata": {},
   "outputs": [],
   "source": [
    "import pandas as pd\n",
    "import numpy as np\n",
    "import matplotlib.pyplot as plt"
   ]
  },
  {
   "cell_type": "code",
   "execution_count": 12,
   "metadata": {},
   "outputs": [],
   "source": [
    "df = pd.read_csv(\"../Resources/Data_Cleaned/master_dataset\")"
   ]
  },
  {
   "cell_type": "code",
   "execution_count": 13,
   "metadata": {},
   "outputs": [],
   "source": [
    "df = df.drop(['min 1a1c', 'min 1a2c','min 1a3c', 'min 2a1w0c', 'min 2a1w1c', 'min 2a1w2c', 'min 2a1w3c','min 2a2w0c', 'min 2a2w1c', 'min 2a2w2c', 'min 2a2w3c'],axis=1)"
   ]
  },
  {
   "cell_type": "code",
   "execution_count": 14,
   "metadata": {},
   "outputs": [],
   "source": [
    "lw_columns = ['pov 1a0c', 'pov 1a1c', 'pov 1a2c','pov 1a3c', 'pov 2a1w0c', 'pov 2a1w1c', 'pov 2a1w2c', 'pov 2a1w3c', 'pov 2a2w0c', 'pov 2a2w1c', 'pov 2a2w2c', 'pov 2a2w3c', 'live 1a0c', 'live 1a1c', 'live 1a2c', 'live 1a3c', 'live 2a1w0c','live 2a2w0c','live 2a2w1c', 'live 2a1w1c','live 2a1w3c', 'live 2a1w2c', 'live 2a2w2c', 'live 2a2w3c', 'min 1a0c']"
   ]
  },
  {
   "cell_type": "code",
   "execution_count": 15,
   "metadata": {},
   "outputs": [],
   "source": [
    "df = df.dropna(how=\"any\")"
   ]
  },
  {
   "cell_type": "code",
   "execution_count": 16,
   "metadata": {},
   "outputs": [
    {
     "name": "stderr",
     "output_type": "stream",
     "text": [
      "C:\\Users\\steve\\AppData\\Local\\Temp/ipykernel_6344/1799059137.py:3: FutureWarning: The default value of regex will change from True to False in a future version. In addition, single character regular expressions will *not* be treated as literal strings when regex=True.\n",
      "  df[i] = df[i].str.replace('$','')\n"
     ]
    }
   ],
   "source": [
    "#remove all of the dollar signs from the dataframe\n",
    "for i in lw_columns:\n",
    "    df[i] = df[i].str.replace('$','')"
   ]
  },
  {
   "cell_type": "code",
   "execution_count": 17,
   "metadata": {},
   "outputs": [],
   "source": [
    "for i in lw_columns:\n",
    "    df[i] = (((df['median_household_income_2019']/2040).astype(float) / df[i].astype(float)) -1) * 100"
   ]
  },
  {
   "cell_type": "code",
   "execution_count": 18,
   "metadata": {},
   "outputs": [],
   "source": [
    "X = df.drop(['County',\"State\", \"FIPS\", \"crime_per_10k\"], axis=1)\n",
    "# X = df[\"median_household_income_2019\"]\n",
    "y = df['crime_per_10k']\n"
   ]
  },
  {
   "cell_type": "code",
   "execution_count": null,
   "metadata": {},
   "outputs": [],
   "source": []
  },
  {
   "cell_type": "code",
   "execution_count": 19,
   "metadata": {},
   "outputs": [
    {
     "data": {
      "text/plain": [
       "County                           object\n",
       "State                            object\n",
       "FIPS                              int64\n",
       "pov 1a0c                        float64\n",
       "pov 1a1c                        float64\n",
       "pov 1a2c                        float64\n",
       "pov 1a3c                        float64\n",
       "pov 2a1w0c                      float64\n",
       "pov 2a1w1c                      float64\n",
       "pov 2a1w2c                      float64\n",
       "pov 2a1w3c                      float64\n",
       "pov 2a2w0c                      float64\n",
       "pov 2a2w1c                      float64\n",
       "pov 2a2w2c                      float64\n",
       "pov 2a2w3c                      float64\n",
       "live 1a0c                       float64\n",
       "live 1a1c                       float64\n",
       "live 1a2c                       float64\n",
       "live 1a3c                       float64\n",
       "live 2a1w0c                     float64\n",
       "live 2a1w1c                     float64\n",
       "live 2a1w2c                     float64\n",
       "live 2a1w3c                     float64\n",
       "live 2a2w0c                     float64\n",
       "live 2a2w1c                     float64\n",
       "live 2a2w2c                     float64\n",
       "live 2a2w3c                     float64\n",
       "min 1a0c                        float64\n",
       "pct_less_hs                     float64\n",
       "pct_hs                          float64\n",
       "pct_some_college                float64\n",
       "pct_college                     float64\n",
       "crime_per_10k                   float64\n",
       "unemployment_rate_2019          float64\n",
       "median_household_income_2019      int64\n",
       "dtype: object"
      ]
     },
     "execution_count": 19,
     "metadata": {},
     "output_type": "execute_result"
    }
   ],
   "source": [
    "#get types of each column\n",
    "df.dtypes"
   ]
  },
  {
   "cell_type": "code",
   "execution_count": 20,
   "metadata": {},
   "outputs": [],
   "source": [
    "from sklearn.model_selection import train_test_split\n",
    "X_train, X_test, y_train, y_test = train_test_split(X, y, test_size=0.2, random_state=42)\n",
    "\n",
    "#scale everything\n",
    "from sklearn.preprocessing import StandardScaler\n",
    "scaler = StandardScaler()\n",
    "scaler.fit(X_train)\n",
    "X_train_scale = scaler.transform(X_train)\n",
    "X_test_scale = scaler.transform(X_test)\n"
   ]
  },
  {
   "cell_type": "code",
   "execution_count": 21,
   "metadata": {},
   "outputs": [],
   "source": [
    "from sklearn.neighbors import KNeighborsRegressor\n",
    "from sklearn.preprocessing import StandardScaler\n",
    "from sklearn.ensemble import RandomForestRegressor\n",
    "from sklearn.ensemble import ExtraTreesRegressor\n",
    "from sklearn.ensemble import AdaBoostRegressor\n",
    "from sklearn.linear_model import LinearRegression"
   ]
  },
  {
   "cell_type": "code",
   "execution_count": 22,
   "metadata": {},
   "outputs": [],
   "source": [
    "def test_model(model):\n",
    "    reg = model.fit(X_train, y_train)\n",
    "    print(f'Model: {type(reg).__name__}')\n",
    "    print(f'Train score: {reg.score(X_train, y_train)}')\n",
    "    print(f'Test Score: {reg.score(X_test, y_test)}\\n')\n",
    "    print()\n",
    "    plt.scatter(y_test, model.predict(X_test))\n",
    "    plt.show()\n"
   ]
  },
  {
   "cell_type": "code",
   "execution_count": 23,
   "metadata": {},
   "outputs": [
    {
     "name": "stdout",
     "output_type": "stream",
     "text": [
      "Model: LinearRegression\n",
      "Train score: 0.059291541839259554\n",
      "Test Score: 0.029822447128686647\n",
      "\n",
      "\n"
     ]
    },
    {
     "data": {
      "image/png": "[encoded data removed]",
      "text/plain": [
       "<Figure size 432x288 with 1 Axes>"
      ]
     },
     "metadata": {
      "needs_background": "light"
     },
     "output_type": "display_data"
    },
    {
     "name": "stdout",
     "output_type": "stream",
     "text": [
      "Model: KNeighborsRegressor\n",
      "Train score: 0.2852434764537527\n"
     ]
    },
    {
     "name": "stderr",
     "output_type": "stream",
     "text": [
      "C:\\Users\\steve\\anaconda3\\envs\\PythonData\\lib\\site-packages\\sklearn\\base.py:441: UserWarning: X does not have valid feature names, but KNeighborsRegressor was fitted with feature names\n",
      "  warnings.warn(\n",
      "C:\\Users\\steve\\anaconda3\\envs\\PythonData\\lib\\site-packages\\sklearn\\base.py:441: UserWarning: X does not have valid feature names, but KNeighborsRegressor was fitted with feature names\n",
      "  warnings.warn(\n"
     ]
    },
    {
     "name": "stdout",
     "output_type": "stream",
     "text": [
      "Test Score: -0.10830825573552993\n",
      "\n",
      "\n"
     ]
    },
    {
     "name": "stderr",
     "output_type": "stream",
     "text": [
      "C:\\Users\\steve\\anaconda3\\envs\\PythonData\\lib\\site-packages\\sklearn\\base.py:441: UserWarning: X does not have valid feature names, but KNeighborsRegressor was fitted with feature names\n",
      "  warnings.warn(\n"
     ]
    },
    {
     "data": {
      "image/png": "[encoded data removed]",
      "text/plain": [
       "<Figure size 432x288 with 1 Axes>"
      ]
     },
     "metadata": {
      "needs_background": "light"
     },
     "output_type": "display_data"
    },
    {
     "name": "stdout",
     "output_type": "stream",
     "text": [
      "Model: RandomForestRegressor\n",
      "Train score: 0.8826580618278661\n",
      "Test Score: 0.12531981599379582\n",
      "\n",
      "\n"
     ]
    },
    {
     "data": {
      "image/png": "[encoded data removed]",
      "text/plain": [
       "<Figure size 432x288 with 1 Axes>"
      ]
     },
     "metadata": {
      "needs_background": "light"
     },
     "output_type": "display_data"
    },
    {
     "name": "stdout",
     "output_type": "stream",
     "text": [
      "Model: ExtraTreesRegressor\n",
      "Train score: 1.0\n",
      "Test Score: 0.15025106698166846\n",
      "\n",
      "\n"
     ]
    },
    {
     "data": {
      "image/png": "[encoded data removed]",
      "text/plain": [
       "<Figure size 432x288 with 1 Axes>"
      ]
     },
     "metadata": {
      "needs_background": "light"
     },
     "output_type": "display_data"
    },
    {
     "name": "stdout",
     "output_type": "stream",
     "text": [
      "Model: AdaBoostRegressor\n",
      "Train score: 0.0072098237720120695\n",
      "Test Score: -0.03311438992862126\n",
      "\n",
      "\n"
     ]
    },
    {
     "data": {
      "image/png": "[encoded data removed]",
      "text/plain": [
       "<Figure size 432x288 with 1 Axes>"
      ]
     },
     "metadata": {
      "needs_background": "light"
     },
     "output_type": "display_data"
    }
   ],
   "source": [
    "test_model(LinearRegression())\n",
    "test_model(KNeighborsRegressor())\n",
    "test_model(RandomForestRegressor())\n",
    "test_model(ExtraTreesRegressor())\n",
    "test_model(AdaBoostRegressor())"
   ]
  },
  {
   "cell_type": "code",
   "execution_count": 24,
   "metadata": {},
   "outputs": [],
   "source": [
    "from sklearn.model_selection import train_test_split\n",
    "from sklearn.preprocessing import StandardScaler\n",
    "import tensorflow as tf"
   ]
  },
  {
   "cell_type": "code",
   "execution_count": 25,
   "metadata": {},
   "outputs": [
    {
     "name": "stdout",
     "output_type": "stream",
     "text": [
      "Model: \"sequential\"\n",
      "_________________________________________________________________\n",
      "Layer (type)                 Output Shape              Param #   \n",
      "=================================================================\n",
      "dense (Dense)                (None, 5)                 160       \n",
      "_________________________________________________________________\n",
      "dense_1 (Dense)              (None, 3)                 18        \n",
      "_________________________________________________________________\n",
      "dense_2 (Dense)              (None, 1)                 4         \n",
      "=================================================================\n",
      "Total params: 182\n",
      "Trainable params: 182\n",
      "Non-trainable params: 0\n",
      "_________________________________________________________________\n"
     ]
    }
   ],
   "source": [
    "# Define the model - deep neural net, i.e., the number of input features and hidden nodes for each layer.\n",
    "nn_model = tf.keras.models.Sequential()\n",
    "\n",
    "# First hidden layer\n",
    "nn_model.add(tf.keras.layers.Dense(units=5, activation=\"relu\", input_dim=X_train_scale.shape[1]))\n",
    "\n",
    "# Second hidden layer\n",
    "nn_model.add(tf.keras.layers.Dense(units=3, activation=\"relu\"))\n",
    "\n",
    "# Output layer\n",
    "nn_model.add(tf.keras.layers.Dense(units=1, activation=\"sigmoid\"))\n",
    "\n",
    "# Check the structure of the model\n",
    "nn_model.summary()"
   ]
  },
  {
   "cell_type": "code",
   "execution_count": 26,
   "metadata": {},
   "outputs": [],
   "source": [
    "nn_model.compile(loss=\"binary_crossentropy\", optimizer=\"adam\", metrics=['accuracy'])"
   ]
  },
  {
   "cell_type": "code",
   "execution_count": 27,
   "metadata": {},
   "outputs": [
    {
     "name": "stdout",
     "output_type": "stream",
     "text": [
      "Epoch 1/50\n",
      "89/89 [==============================] - 0s 527us/step - loss: 7.0543 - accuracy: 0.0315\n",
      "Epoch 2/50\n",
      "89/89 [==============================] - 0s 657us/step - loss: -26.6042 - accuracy: 0.0011\n",
      "Epoch 3/50\n",
      "89/89 [==============================] - 0s 544us/step - loss: -109.6739 - accuracy: 0.0000e+00\n",
      "Epoch 4/50\n",
      "89/89 [==============================] - 0s 691us/step - loss: -603.1679 - accuracy: 0.0000e+00\n",
      "Epoch 5/50\n",
      "89/89 [==============================] - 0s 1ms/step - loss: -1981.5438 - accuracy: 0.0000e+00\n",
      "Epoch 6/50\n",
      "89/89 [==============================] - 0s 730us/step - loss: -4434.2144 - accuracy: 0.0000e+00\n",
      "Epoch 7/50\n",
      "89/89 [==============================] - 0s 759us/step - loss: -8109.0557 - accuracy: 0.0000e+00\n",
      "Epoch 8/50\n",
      "89/89 [==============================] - 0s 555us/step - loss: -13054.5762 - accuracy: 0.0000e+00\n",
      "Epoch 9/50\n",
      "89/89 [==============================] - 0s 567us/step - loss: -19397.5156 - accuracy: 0.0000e+00\n",
      "Epoch 10/50\n",
      "89/89 [==============================] - 0s 555us/step - loss: -27354.3320 - accuracy: 0.0000e+00\n",
      "Epoch 11/50\n",
      "89/89 [==============================] - 0s 635us/step - loss: -36960.6797 - accuracy: 0.0000e+00\n",
      "Epoch 12/50\n",
      "89/89 [==============================] - 0s 544us/step - loss: -48298.5664 - accuracy: 0.0000e+00\n",
      "Epoch 13/50\n",
      "89/89 [==============================] - 0s 669us/step - loss: -61472.6523 - accuracy: 0.0000e+00\n",
      "Epoch 14/50\n",
      "89/89 [==============================] - 0s 918us/step - loss: -76662.5938 - accuracy: 0.0000e+00\n",
      "Epoch 15/50\n",
      "89/89 [==============================] - 0s 912us/step - loss: -93702.6016 - accuracy: 0.0000e+00\n",
      "Epoch 16/50\n",
      "89/89 [==============================] - 0s 589us/step - loss: -113000.5938 - accuracy: 0.0000e+00\n",
      "Epoch 17/50\n",
      "89/89 [==============================] - 0s 521us/step - loss: -134337.3750 - accuracy: 0.0000e+00\n",
      "Epoch 18/50\n",
      "89/89 [==============================] - 0s 567us/step - loss: -157970.5781 - accuracy: 0.0000e+00\n",
      "Epoch 19/50\n",
      "89/89 [==============================] - 0s 521us/step - loss: -183797.8906 - accuracy: 0.0000e+00\n",
      "Epoch 20/50\n",
      "89/89 [==============================] - 0s 521us/step - loss: -211953.4375 - accuracy: 0.0000e+00\n",
      "Epoch 21/50\n",
      "89/89 [==============================] - 0s 623us/step - loss: -242351.7969 - accuracy: 0.0000e+00\n",
      "Epoch 22/50\n",
      "89/89 [==============================] - 0s 895us/step - loss: -275163.0938 - accuracy: 0.0000e+00\n",
      "Epoch 23/50\n",
      "89/89 [==============================] - 0s 533us/step - loss: -310398.5625 - accuracy: 0.0000e+00\n",
      "Epoch 24/50\n",
      "89/89 [==============================] - 0s 487us/step - loss: -348119.4688 - accuracy: 0.0000e+00\n",
      "Epoch 25/50\n",
      "89/89 [==============================] - 0s 510us/step - loss: -388967.7500 - accuracy: 0.0000e+00\n",
      "Epoch 26/50\n",
      "89/89 [==============================] - 0s 499us/step - loss: -431840.0625 - accuracy: 0.0000e+00\n",
      "Epoch 27/50\n",
      "89/89 [==============================] - 0s 499us/step - loss: -477462.8125 - accuracy: 0.0000e+00\n",
      "Epoch 28/50\n",
      "89/89 [==============================] - 0s 487us/step - loss: -525693.2500 - accuracy: 0.0000e+00\n",
      "Epoch 29/50\n",
      "89/89 [==============================] - 0s 489us/step - loss: -576848.0000 - accuracy: 0.0000e+00\n",
      "Epoch 30/50\n",
      "89/89 [==============================] - 0s 737us/step - loss: -630574.6250 - accuracy: 0.0000e+00\n",
      "Epoch 31/50\n",
      "89/89 [==============================] - 0s 567us/step - loss: -686828.6250 - accuracy: 0.0000e+00\n",
      "Epoch 32/50\n",
      "89/89 [==============================] - 0s 487us/step - loss: -745480.6250 - accuracy: 0.0000e+00\n",
      "Epoch 33/50\n",
      "89/89 [==============================] - 0s 487us/step - loss: -806490.8750 - accuracy: 0.0000e+00\n",
      "Epoch 34/50\n",
      "89/89 [==============================] - 0s 487us/step - loss: -870605.1250 - accuracy: 0.0000e+00\n",
      "Epoch 35/50\n",
      "89/89 [==============================] - 0s 499us/step - loss: -937358.0625 - accuracy: 0.0000e+00\n",
      "Epoch 36/50\n",
      "89/89 [==============================] - 0s 510us/step - loss: -1006959.0625 - accuracy: 0.0000e+00\n",
      "Epoch 37/50\n",
      "89/89 [==============================] - 0s 499us/step - loss: -1079604.2500 - accuracy: 0.0000e+00\n",
      "Epoch 38/50\n",
      "89/89 [==============================] - 0s 544us/step - loss: -1155063.0000 - accuracy: 0.0000e+00\n",
      "Epoch 39/50\n",
      "89/89 [==============================] - 0s 487us/step - loss: -1233531.2500 - accuracy: 0.0000e+00\n",
      "Epoch 40/50\n",
      "89/89 [==============================] - 0s 487us/step - loss: -1315001.7500 - accuracy: 0.0000e+00\n",
      "Epoch 41/50\n",
      "89/89 [==============================] - 0s 510us/step - loss: -1399482.7500 - accuracy: 0.0000e+00\n",
      "Epoch 42/50\n",
      "89/89 [==============================] - 0s 487us/step - loss: -1486848.8750 - accuracy: 0.0000e+00\n",
      "Epoch 43/50\n",
      "89/89 [==============================] - 0s 487us/step - loss: -1578013.8750 - accuracy: 0.0000e+00\n",
      "Epoch 44/50\n",
      "89/89 [==============================] - 0s 487us/step - loss: -1672502.6250 - accuracy: 0.0000e+00\n",
      "Epoch 45/50\n",
      "89/89 [==============================] - 0s 487us/step - loss: -1769182.6250 - accuracy: 0.0000e+00\n",
      "Epoch 46/50\n",
      "89/89 [==============================] - 0s 487us/step - loss: -1868435.8750 - accuracy: 0.0000e+00\n",
      "Epoch 47/50\n",
      "89/89 [==============================] - 0s 487us/step - loss: -1971670.2500 - accuracy: 0.0000e+00\n",
      "Epoch 48/50\n",
      "89/89 [==============================] - 0s 499us/step - loss: -2078027.0000 - accuracy: 0.0000e+00\n",
      "Epoch 49/50\n",
      "89/89 [==============================] - 0s 487us/step - loss: -2187026.2500 - accuracy: 0.0000e+00\n",
      "Epoch 50/50\n",
      "89/89 [==============================] - 0s 497us/step - loss: -2299105.2500 - accuracy: 0.0000e+00\n"
     ]
    }
   ],
   "source": [
    "fit_model = nn_model.fit(X_train_scale, y_train, epochs=50)"
   ]
  },
  {
   "cell_type": "code",
   "execution_count": 28,
   "metadata": {},
   "outputs": [
    {
     "name": "stdout",
     "output_type": "stream",
     "text": [
      "23/23 - 0s - loss: -2.7079e+06 - accuracy: 0.0000e+00\n",
      "Loss: -2707914.75, Accuracy: 0.0\n"
     ]
    }
   ],
   "source": [
    "# Evaluate the model using the test data\n",
    "model_loss, model_accuracy = nn_model.evaluate(X_test_scale,y_test,verbose=2)\n",
    "print(f\"Loss: {model_loss}, Accuracy: {model_accuracy}\")"
   ]
  }
 ],
 "metadata": {
  "interpreter": {
   "hash": "3b32922ae442944bae51de5c420d7545d4126864cdc0e7cb358b7d9924f39d3e"
  },
  "kernelspec": {
   "display_name": "Python 3.9.6 64-bit ('PythonData': conda)",
   "language": "python",
   "name": "python3"
  },
  "language_info": {
   "codemirror_mode": {
    "name": "ipython",
    "version": 3
   },
   "file_extension": ".py",
   "mimetype": "text/x-python",
   "name": "python",
   "nbconvert_exporter": "python",
   "pygments_lexer": "ipython3",
   "version": "3.9.6"
  },
  "orig_nbformat": 4
 },
 "nbformat": 4,
 "nbformat_minor": 2
}
