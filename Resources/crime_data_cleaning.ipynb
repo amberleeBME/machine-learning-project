{
 "cells": [
  {
   "cell_type": "code",
   "execution_count": 1,
   "metadata": {},
   "outputs": [],
   "source": [
    "import pandas as pd"
   ]
  },
  {
   "cell_type": "code",
   "execution_count": 2,
   "metadata": {},
   "outputs": [],
   "source": [
    "df_drugs = pd.read_csv('Data/ucr_drug_arrests_2019_cleaned.csv')\n",
    "df_crime = pd.read_csv('Data/ucr_arrests_2019_cleaned.csv')\n",
    "df_other = pd.read_csv('Data/ucr_other_arrests_2019_cleaned.csv')"
   ]
  },
  {
   "cell_type": "code",
   "execution_count": 3,
   "metadata": {},
   "outputs": [
    {
     "name": "stdout",
     "output_type": "stream",
     "text": [
      "19452\n",
      "19452\n",
      "19452\n"
     ]
    }
   ],
   "source": [
    "#len of each df\n",
    "print(len(df_drugs))\n",
    "print(len(df_crime))\n",
    "print(len(df_other))"
   ]
  },
  {
   "cell_type": "code",
   "execution_count": 7,
   "metadata": {},
   "outputs": [],
   "source": [
    "df_crime_grouped = df_crime.groupby(['fips_state_county_code',]).agg({\"population\":\"sum\",\"agg_assault_tot_arrests\":\"sum\",\"arson_tot_arrests\":\"sum\",\"burglary_tot_arrests\":\"sum\",\"mtr_veh_theft_tot_arrests\":\"sum\",\"murder_tot_arrests\":\"sum\",\"rape_tot_arrests\":\"sum\",\"robbery_tot_arrests\":\"sum\",\"theft_tot_arrests\":\"sum\"\n",
    "})\n",
    "df_drugs_grouped = df_drugs.groupby(['fips_state_county_code']).agg({\"sale_cannabis_tot_arrests\":\"sum\",\"sale_heroin_coke_tot_arrests\":\"sum\",\"sale_other_drug_tot_arrests\":\"sum\",\"sale_synth_narc_tot_arrests\":\"sum\",\"poss_cannabis_tot_arrests\":\"sum\",\"poss_heroin_coke_tot_arrests\":\"sum\",\"poss_other_drug_tot_arrests\":\"sum\",\"poss_synth_narc_tot_arrests\":\"sum\",\n",
    "})\n",
    "df_other_crime_grouped = df_other.groupby(['fips_state_county_code']).agg({\"all_other_tot_arrests\":\"sum\",\"curfew_loiter_tot_arrests\":\"sum\",\"disorder_cond_tot_arrests\":\"sum\",\"family_off_tot_arrests\":\"sum\",\"manslaught_neg_tot_arrests\":\"sum\",\"oth_assault_tot_arrests\":\"sum\",\"oth_sex_off_tot_arrests\":\"sum\",\"prostitution_tot_arrests\":\"sum\",\"runaways_tot_arrests\":\"sum\",\"suspicion_tot_arrests\":\"sum\",\"vagrancy_tot_arrests\":\"sum\",\"vandalism_tot_arrests\":\"sum\",\"weapons_tot_arrests\":\"sum\",\n",
    "})"
   ]
  },
  {
   "cell_type": "code",
   "execution_count": 8,
   "metadata": {},
   "outputs": [
    {
     "name": "stdout",
     "output_type": "stream",
     "text": [
      "3138\n",
      "3138\n",
      "3138\n"
     ]
    }
   ],
   "source": [
    "#len of grouped dfs\n",
    "print(len(df_crime_grouped))\n",
    "print(len(df_drugs_grouped))\n",
    "print(len(df_other_crime_grouped))"
   ]
  },
  {
   "cell_type": "code",
   "execution_count": 9,
   "metadata": {},
   "outputs": [],
   "source": [
    "df_all_crime = df_crime_grouped.merge(df_drugs_grouped, on='fips_state_county_code', how='inner')\n",
    "df_all_crime = df_all_crime.merge(df_other_crime_grouped, on='fips_state_county_code', how='inner')\n"
   ]
  },
  {
   "cell_type": "code",
   "execution_count": 10,
   "metadata": {},
   "outputs": [
    {
     "data": {
      "text/html": [
       "<div>\n",
       "<style scoped>\n",
       "    .dataframe tbody tr th:only-of-type {\n",
       "        vertical-align: middle;\n",
       "    }\n",
       "\n",
       "    .dataframe tbody tr th {\n",
       "        vertical-align: top;\n",
       "    }\n",
       "\n",
       "    .dataframe thead th {\n",
       "        text-align: right;\n",
       "    }\n",
       "</style>\n",
       "<table border=\"1\" class=\"dataframe\">\n",
       "  <thead>\n",
       "    <tr style=\"text-align: right;\">\n",
       "      <th></th>\n",
       "      <th>population</th>\n",
       "      <th>agg_assault_tot_arrests</th>\n",
       "      <th>arson_tot_arrests</th>\n",
       "      <th>burglary_tot_arrests</th>\n",
       "      <th>mtr_veh_theft_tot_arrests</th>\n",
       "      <th>murder_tot_arrests</th>\n",
       "      <th>rape_tot_arrests</th>\n",
       "      <th>robbery_tot_arrests</th>\n",
       "      <th>theft_tot_arrests</th>\n",
       "    </tr>\n",
       "    <tr>\n",
       "      <th>fips_state_county_code</th>\n",
       "      <th></th>\n",
       "      <th></th>\n",
       "      <th></th>\n",
       "      <th></th>\n",
       "      <th></th>\n",
       "      <th></th>\n",
       "      <th></th>\n",
       "      <th></th>\n",
       "      <th></th>\n",
       "    </tr>\n",
       "  </thead>\n",
       "  <tbody>\n",
       "    <tr>\n",
       "      <th>0</th>\n",
       "      <td>1359077</td>\n",
       "      <td>1328</td>\n",
       "      <td>147</td>\n",
       "      <td>496</td>\n",
       "      <td>224</td>\n",
       "      <td>52</td>\n",
       "      <td>102</td>\n",
       "      <td>159</td>\n",
       "      <td>2007</td>\n",
       "    </tr>\n",
       "    <tr>\n",
       "      <th>1001</th>\n",
       "      <td>55573</td>\n",
       "      <td>17</td>\n",
       "      <td>1</td>\n",
       "      <td>12</td>\n",
       "      <td>16</td>\n",
       "      <td>3</td>\n",
       "      <td>5</td>\n",
       "      <td>9</td>\n",
       "      <td>113</td>\n",
       "    </tr>\n",
       "    <tr>\n",
       "      <th>1003</th>\n",
       "      <td>222871</td>\n",
       "      <td>246</td>\n",
       "      <td>2</td>\n",
       "      <td>123</td>\n",
       "      <td>22</td>\n",
       "      <td>10</td>\n",
       "      <td>34</td>\n",
       "      <td>40</td>\n",
       "      <td>772</td>\n",
       "    </tr>\n",
       "    <tr>\n",
       "      <th>1005</th>\n",
       "      <td>24595</td>\n",
       "      <td>14</td>\n",
       "      <td>0</td>\n",
       "      <td>1</td>\n",
       "      <td>1</td>\n",
       "      <td>3</td>\n",
       "      <td>1</td>\n",
       "      <td>3</td>\n",
       "      <td>32</td>\n",
       "    </tr>\n",
       "    <tr>\n",
       "      <th>1007</th>\n",
       "      <td>22291</td>\n",
       "      <td>18</td>\n",
       "      <td>1</td>\n",
       "      <td>20</td>\n",
       "      <td>6</td>\n",
       "      <td>1</td>\n",
       "      <td>4</td>\n",
       "      <td>8</td>\n",
       "      <td>39</td>\n",
       "    </tr>\n",
       "  </tbody>\n",
       "</table>\n",
       "</div>"
      ],
      "text/plain": [
       "                        population  agg_assault_tot_arrests  \\\n",
       "fips_state_county_code                                        \n",
       "0                          1359077                     1328   \n",
       "1001                         55573                       17   \n",
       "1003                        222871                      246   \n",
       "1005                         24595                       14   \n",
       "1007                         22291                       18   \n",
       "\n",
       "                        arson_tot_arrests  burglary_tot_arrests  \\\n",
       "fips_state_county_code                                            \n",
       "0                                     147                   496   \n",
       "1001                                    1                    12   \n",
       "1003                                    2                   123   \n",
       "1005                                    0                     1   \n",
       "1007                                    1                    20   \n",
       "\n",
       "                        mtr_veh_theft_tot_arrests  murder_tot_arrests  \\\n",
       "fips_state_county_code                                                  \n",
       "0                                             224                  52   \n",
       "1001                                           16                   3   \n",
       "1003                                           22                  10   \n",
       "1005                                            1                   3   \n",
       "1007                                            6                   1   \n",
       "\n",
       "                        rape_tot_arrests  robbery_tot_arrests  \\\n",
       "fips_state_county_code                                          \n",
       "0                                    102                  159   \n",
       "1001                                   5                    9   \n",
       "1003                                  34                   40   \n",
       "1005                                   1                    3   \n",
       "1007                                   4                    8   \n",
       "\n",
       "                        theft_tot_arrests  \n",
       "fips_state_county_code                     \n",
       "0                                    2007  \n",
       "1001                                  113  \n",
       "1003                                  772  \n",
       "1005                                   32  \n",
       "1007                                   39  "
      ]
     },
     "execution_count": 10,
     "metadata": {},
     "output_type": "execute_result"
    }
   ],
   "source": [
    "df_crime_grouped.head()\n"
   ]
  },
  {
   "cell_type": "code",
   "execution_count": 11,
   "metadata": {},
   "outputs": [],
   "source": [
    "df_all_crime.to_csv('Data_Cleaned/all_crime_arrests_2019_cleaned.csv')"
   ]
  }
 ],
 "metadata": {
  "interpreter": {
   "hash": "3b32922ae442944bae51de5c420d7545d4126864cdc0e7cb358b7d9924f39d3e"
  },
  "kernelspec": {
   "display_name": "Python 3.9.6 64-bit ('PythonData': conda)",
   "language": "python",
   "name": "python3"
  },
  "language_info": {
   "codemirror_mode": {
    "name": "ipython",
    "version": 3
   },
   "file_extension": ".py",
   "mimetype": "text/x-python",
   "name": "python",
   "nbconvert_exporter": "python",
   "pygments_lexer": "ipython3",
   "version": "3.9.6"
  },
  "orig_nbformat": 4
 },
 "nbformat": 4,
 "nbformat_minor": 2
}
