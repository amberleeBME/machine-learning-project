{
 "cells": [
  {
   "cell_type": "code",
   "execution_count": 33,
   "metadata": {},
   "outputs": [],
   "source": [
    "import pandas as pd"
   ]
  },
  {
   "cell_type": "code",
   "execution_count": 34,
   "metadata": {},
   "outputs": [],
   "source": [
    "df_drugs = pd.read_csv('Data/ucr_drug_arrests_2019_cleaned.csv')\n",
    "df_crime = pd.read_csv('Data/ucr_arrests_2019_cleaned.csv')\n",
    "df_other = pd.read_csv('Data/ucr_other_arrests_2019_cleaned.csv')"
   ]
  },
  {
   "cell_type": "code",
   "execution_count": 35,
   "metadata": {},
   "outputs": [
    {
     "name": "stdout",
     "output_type": "stream",
     "text": [
      "19452\n",
      "19452\n",
      "19452\n"
     ]
    }
   ],
   "source": [
    "#len of each df\n",
    "print(len(df_drugs))\n",
    "print(len(df_crime))\n",
    "print(len(df_other))"
   ]
  },
  {
   "cell_type": "code",
   "execution_count": 36,
   "metadata": {},
   "outputs": [],
   "source": [
    "df_crime_grouped = df_crime.groupby(['country_division','fips_state_county_code',]).agg({\"population\":\"sum\",\"agg_assault_tot_arrests\":\"sum\",\"arson_tot_arrests\":\"sum\",\"burglary_tot_arrests\":\"sum\",\"mtr_veh_theft_tot_arrests\":\"sum\",\"murder_tot_arrests\":\"sum\",\"rape_tot_arrests\":\"sum\",\"robbery_tot_arrests\":\"sum\",\"theft_tot_arrests\":\"sum\"\n",
    "})\n",
    "df_drugs_grouped = df_drugs.groupby(['fips_state_county_code']).agg({\"sale_cannabis_tot_arrests\":\"sum\",\"sale_heroin_coke_tot_arrests\":\"sum\",\"sale_other_drug_tot_arrests\":\"sum\",\"sale_synth_narc_tot_arrests\":\"sum\",\"poss_cannabis_tot_arrests\":\"sum\",\"poss_heroin_coke_tot_arrests\":\"sum\",\"poss_other_drug_tot_arrests\":\"sum\",\"poss_synth_narc_tot_arrests\":\"sum\",\n",
    "})\n",
    "df_other_crime_grouped = df_other.groupby(['fips_state_county_code']).agg({\"all_other_tot_arrests\":\"sum\",\"curfew_loiter_tot_arrests\":\"sum\",\"disorder_cond_tot_arrests\":\"sum\",\"family_off_tot_arrests\":\"sum\",\"manslaught_neg_tot_arrests\":\"sum\",\"oth_assault_tot_arrests\":\"sum\",\"oth_sex_off_tot_arrests\":\"sum\",\"prostitution_tot_arrests\":\"sum\",\"runaways_tot_arrests\":\"sum\",\"suspicion_tot_arrests\":\"sum\",\"vagrancy_tot_arrests\":\"sum\",\"vandalism_tot_arrests\":\"sum\",\"weapons_tot_arrests\":\"sum\",\n",
    "})"
   ]
  },
  {
   "cell_type": "code",
   "execution_count": 37,
   "metadata": {},
   "outputs": [
    {
     "name": "stdout",
     "output_type": "stream",
     "text": [
      "3147\n",
      "3138\n",
      "3138\n"
     ]
    }
   ],
   "source": [
    "#len of grouped dfs\n",
    "print(len(df_crime_grouped))\n",
    "print(len(df_drugs_grouped))\n",
    "print(len(df_other_crime_grouped))"
   ]
  },
  {
   "cell_type": "code",
   "execution_count": 40,
   "metadata": {},
   "outputs": [
    {
     "name": "stdout",
     "output_type": "stream",
     "text": [
      "3147\n"
     ]
    }
   ],
   "source": [
    "df_all_crime = df_crime_grouped.merge(df_drugs_grouped, on='fips_state_county_code', how='inner')\n",
    "df_all_crime = df_all_crime.merge(df_other_crime_grouped, on='fips_state_county_code', how='inner')\n"
   ]
  },
  {
   "cell_type": "code",
   "execution_count": 41,
   "metadata": {},
   "outputs": [],
   "source": [
    "df_all_crime.to_csv('Data_Cleaned/all_crime_arrests_2019_cleaned.csv')"
   ]
  }
 ],
 "metadata": {
  "interpreter": {
   "hash": "3b32922ae442944bae51de5c420d7545d4126864cdc0e7cb358b7d9924f39d3e"
  },
  "kernelspec": {
   "display_name": "Python 3.9.6 64-bit ('PythonData': conda)",
   "language": "python",
   "name": "python3"
  },
  "language_info": {
   "codemirror_mode": {
    "name": "ipython",
    "version": 3
   },
   "file_extension": ".py",
   "mimetype": "text/x-python",
   "name": "python",
   "nbconvert_exporter": "python",
   "pygments_lexer": "ipython3",
   "version": "3.9.6"
  },
  "orig_nbformat": 4
 },
 "nbformat": 4,
 "nbformat_minor": 2
}
