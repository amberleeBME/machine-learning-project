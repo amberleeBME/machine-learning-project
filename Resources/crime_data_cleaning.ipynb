{
 "cells": [
  {
   "cell_type": "code",
   "execution_count": 112,
   "metadata": {},
   "outputs": [],
   "source": [
    "import pandas as pd"
   ]
  },
  {
   "cell_type": "code",
   "execution_count": 113,
   "metadata": {},
   "outputs": [],
   "source": [
    "df_drugs = pd.read_csv('Data/ucr_drug_arrests_2019_cleaned.csv')\n",
    "df_crime = pd.read_csv('Data/ucr_arrests_2019_cleaned.csv')\n",
    "df_other = pd.read_csv('Data/ucr_other_arrests_2019_cleaned.csv')"
   ]
  },
  {
   "cell_type": "code",
   "execution_count": 114,
   "metadata": {},
   "outputs": [
    {
     "name": "stdout",
     "output_type": "stream",
     "text": [
      "19452\n",
      "19452\n",
      "19452\n"
     ]
    }
   ],
   "source": [
    "#len of each df\n",
    "print(len(df_drugs))\n",
    "print(len(df_crime))\n",
    "print(len(df_other))"
   ]
  },
  {
   "cell_type": "code",
   "execution_count": 115,
   "metadata": {},
   "outputs": [],
   "source": [
    "df_crime_grouped = df_crime.groupby(['fips_state_county_code']).agg({\"population\":\"sum\",\"agg_assault_tot_arrests\":\"sum\",\"arson_tot_arrests\":\"sum\",\"burglary_tot_arrests\":\"sum\",\"mtr_veh_theft_tot_arrests\":\"sum\",\"murder_tot_arrests\":\"sum\",\"rape_tot_arrests\":\"sum\",\"robbery_tot_arrests\":\"sum\",\"theft_tot_arrests\":\"sum\"\n",
    "})\n",
    "df_drugs_grouped = df_drugs.groupby(['fips_state_county_code']).agg({\"sale_cannabis_tot_arrests\":\"sum\",\"sale_heroin_coke_tot_arrests\":\"sum\",\"sale_other_drug_tot_arrests\":\"sum\",\"sale_synth_narc_tot_arrests\":\"sum\",\"poss_cannabis_tot_arrests\":\"sum\",\"poss_heroin_coke_tot_arrests\":\"sum\",\"poss_other_drug_tot_arrests\":\"sum\",\"poss_synth_narc_tot_arrests\":\"sum\",\n",
    "})\n",
    "df_other_crime_grouped = df_other.groupby(['fips_state_county_code']).agg({\"all_other_tot_arrests\":\"sum\",\"curfew_loiter_tot_arrests\":\"sum\",\"disorder_cond_tot_arrests\":\"sum\",\"family_off_tot_arrests\":\"sum\",\"manslaught_neg_tot_arrests\":\"sum\",\"oth_assault_tot_arrests\":\"sum\",\"oth_sex_off_tot_arrests\":\"sum\",\"prostitution_tot_arrests\":\"sum\",\"runaways_tot_arrests\":\"sum\",\"suspicion_tot_arrests\":\"sum\",\"vagrancy_tot_arrests\":\"sum\",\"vandalism_tot_arrests\":\"sum\",\"weapons_tot_arrests\":\"sum\",\n",
    "})"
   ]
  },
  {
   "cell_type": "code",
   "execution_count": 116,
   "metadata": {},
   "outputs": [
    {
     "name": "stdout",
     "output_type": "stream",
     "text": [
      "3138\n",
      "3138\n",
      "3138\n"
     ]
    }
   ],
   "source": [
    "#len of grouped dfs\n",
    "print(len(df_crime_grouped))\n",
    "print(len(df_drugs_grouped))\n",
    "print(len(df_other_crime_grouped))"
   ]
  },
  {
   "cell_type": "code",
   "execution_count": 117,
   "metadata": {},
   "outputs": [],
   "source": [
    "df_all_crime = df_crime_grouped.merge(df_drugs_grouped, on='fips_state_county_code', how='inner')\n",
    "df_all_crime = df_all_crime.merge(df_other_crime_grouped, on='fips_state_county_code', how='inner')\n"
   ]
  },
  {
   "cell_type": "code",
   "execution_count": 118,
   "metadata": {},
   "outputs": [
    {
     "name": "stdout",
     "output_type": "stream",
     "text": [
      "3138\n"
     ]
    }
   ],
   "source": [
    "print(len(df_all_crime))"
   ]
  },
  {
   "cell_type": "code",
   "execution_count": 119,
   "metadata": {},
   "outputs": [],
   "source": [
    "df_all_crime.to_csv('Data_Cleaned/all_crime_arrests_2019_cleaned.csv')"
   ]
  },
  {
   "cell_type": "code",
   "execution_count": 120,
   "metadata": {},
   "outputs": [
    {
     "name": "stdout",
     "output_type": "stream",
     "text": [
      "3138\n"
     ]
    }
   ],
   "source": [
    "#add all df_all_crime columns together to make a crime_total column\n",
    "df_all_crime['total_crime'] = df_all_crime.sum(axis=1) - df_all_crime['population']\n",
    "print(len(df_all_crime))"
   ]
  },
  {
   "cell_type": "code",
   "execution_count": 121,
   "metadata": {},
   "outputs": [
    {
     "name": "stdout",
     "output_type": "stream",
     "text": [
      "3138\n"
     ]
    },
    {
     "name": "stderr",
     "output_type": "stream",
     "text": [
      "C:\\Users\\steve\\anaconda3\\envs\\PythonData\\lib\\site-packages\\pandas\\core\\frame.py:3607: SettingWithCopyWarning: \n",
      "A value is trying to be set on a copy of a slice from a DataFrame.\n",
      "Try using .loc[row_indexer,col_indexer] = value instead\n",
      "\n",
      "See the caveats in the documentation: https://pandas.pydata.org/pandas-docs/stable/user_guide/indexing.html#returning-a-view-versus-a-copy\n",
      "  self._set_item(key, value)\n"
     ]
    }
   ],
   "source": [
    "df_all_crime_total = df_all_crime[['population', 'total_crime']]\n",
    "df_all_crime_total['crime_per_10k'] = df_all_crime_total['total_crime']/df_all_crime_total['population']*10000\n",
    "df_all_crime_total = df_all_crime_total['crime_per_10k']\n",
    "print(len(df_all_crime))"
   ]
  },
  {
   "cell_type": "code",
   "execution_count": 122,
   "metadata": {},
   "outputs": [
    {
     "name": "stdout",
     "output_type": "stream",
     "text": [
      "3138\n"
     ]
    }
   ],
   "source": [
    "df_all_crime_total.head()\n",
    "df_all_crime_total.to_csv('Data_Cleaned/model_crime_data.csv')\n",
    "print(len(df_all_crime))"
   ]
  },
  {
   "cell_type": "code",
   "execution_count": 123,
   "metadata": {},
   "outputs": [],
   "source": [
    "######### SEGMENTING CRIME TYPES #########\n",
    "#reset the index\n",
    "df_all_crime_total = df_all_crime_total.reset_index(inplace=False)\n",
    "df_all_crime = df_all_crime.reset_index(inplace=False)"
   ]
  },
  {
   "cell_type": "code",
   "execution_count": 124,
   "metadata": {},
   "outputs": [
    {
     "name": "stdout",
     "output_type": "stream",
     "text": [
      "3138\n",
      "3138\n"
     ]
    }
   ],
   "source": [
    "print(len(df_all_crime_total))\n",
    "print(len(df_all_crime))"
   ]
  },
  {
   "cell_type": "code",
   "execution_count": 125,
   "metadata": {},
   "outputs": [],
   "source": [
    "df_all_crime_total[\"violent_crime\"] = (df_all_crime['agg_assault_tot_arrests'] + df_all_crime['arson_tot_arrests'] + df_all_crime['burglary_tot_arrests'] + df_all_crime['mtr_veh_theft_tot_arrests'] + df_all_crime['murder_tot_arrests'] + df_all_crime[ 'rape_tot_arrests'] + df_all_crime['robbery_tot_arrests'] + df_all_crime['oth_assault_tot_arrests']) / df_all_crime[\"population\"] *10000\n",
    "df_all_crime_total[\"hard_drugs_crime\"] = (df_all_crime['sale_heroin_coke_tot_arrests'] + df_all_crime['sale_synth_narc_tot_arrests'] + df_all_crime['poss_heroin_coke_tot_arrests'] + df_all_crime['poss_synth_narc_tot_arrests']) / df_all_crime[\"population\"] *10000\n",
    "df_all_crime_total[\"soft_drugs_crime\"] = (df_all_crime['sale_cannabis_tot_arrests'] + df_all_crime['sale_other_drug_tot_arrests'] + df_all_crime['poss_cannabis_tot_arrests'] + df_all_crime['poss_other_drug_tot_arrests']) / df_all_crime[\"population\"] *10000\n",
    "df_all_crime_total['commerce_crimes'] = (df_all_crime['burglary_tot_arrests'] + df_all_crime['mtr_veh_theft_tot_arrests'] + df_all_crime['theft_tot_arrests'] + df_all_crime['sale_heroin_coke_tot_arrests'] + df_all_crime['sale_other_drug_tot_arrests'] + df_all_crime['sale_synth_narc_tot_arrests'] + df_all_crime['prostitution_tot_arrests']) / df_all_crime[\"population\"] *10000"
   ]
  },
  {
   "cell_type": "code",
   "execution_count": 126,
   "metadata": {},
   "outputs": [],
   "source": [
    "df_all_crime_total = df_all_crime_total.rename(columns={'violent_crime':'violent_crime_per_10k', 'hard_drugs_crime':'hard_drugs_crime_per_10k', 'soft_drugs_crime':'soft_drugs_crime_per_10k', 'commerce_crimes':'commerce_crimes_per_10k', \"fips_state_county_code\":\"FIPS\"})\n",
    "df_all_crime_total.to_csv('Data_Cleaned/model_crime_data_segmented.csv')"
   ]
  }
 ],
 "metadata": {
  "interpreter": {
   "hash": "3b32922ae442944bae51de5c420d7545d4126864cdc0e7cb358b7d9924f39d3e"
  },
  "kernelspec": {
   "display_name": "Python 3.9.6 64-bit ('PythonData': conda)",
   "language": "python",
   "name": "python3"
  },
  "language_info": {
   "codemirror_mode": {
    "name": "ipython",
    "version": 3
   },
   "file_extension": ".py",
   "mimetype": "text/x-python",
   "name": "python",
   "nbconvert_exporter": "python",
   "pygments_lexer": "ipython3",
   "version": "3.9.6"
  },
  "orig_nbformat": 4
 },
 "nbformat": 4,
 "nbformat_minor": 2
}
